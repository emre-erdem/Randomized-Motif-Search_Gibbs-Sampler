{
 "cells": [
  {
   "cell_type": "markdown",
   "metadata": {},
   "source": [
    "# Emre Erdem 150115501\n",
    "\n",
    "In this project I'll present you my motif generator, DNA generator and my randomized motif search algorithm. The parameters are flexible and you can toy with it to see how they change\n",
    "Let me start"
   ]
  },
  {
   "cell_type": "code",
   "execution_count": 983,
   "metadata": {
    "scrolled": true
   },
   "outputs": [],
   "source": [
    "import random as rd\n",
    "import string\n",
    "import timeit\n"
   ]
  },
  {
   "cell_type": "markdown",
   "metadata": {},
   "source": [
    "### Text Generation"
   ]
  },
  {
   "cell_type": "markdown",
   "metadata": {},
   "source": [
    "In this segment, we have necessary functions to implement motif generation. As you can see from the output it generates the motif with the desired mutation level with given parameters (or default)."
   ]
  },
  {
   "cell_type": "code",
   "execution_count": 3,
   "metadata": {},
   "outputs": [
    {
     "name": "stdout",
     "output_type": "stream",
     "text": [
      "TcGccTCCGt\n"
     ]
    }
   ],
   "source": [
    "def randString(length=10, endline=True): #Random dna string generator\n",
    "    # put your letters in the following string\n",
    "    your_letters='ATGC'\n",
    "    if(endline):\n",
    "        return ''.join((rd.choice(your_letters) for i in range(length)))+\"\\n\"\n",
    "    else:\n",
    "        return ''.join((rd.choice(your_letters) for i in range(length)))\n",
    "    \n",
    "def randMut(oldGene):\n",
    "    your_letters='atgc'\n",
    "    mutate = rd.choice(your_letters)\n",
    "    while (oldGene.lower() == mutate):\n",
    "        mutate = rd.choice(your_letters)\n",
    "    return mutate\n",
    "\n",
    "def checkIfMutated(check = [], rand = 0):   #goes thru already mutated indexes to check if already mutated\n",
    "    for i in check:\n",
    "        if(i == rand):\n",
    "            return True\n",
    "    return False\n",
    "\n",
    "def generateMotif(length=10, mutation=4):          #generates a motif of given length and given mutation\n",
    "    check = [0 for i in range(mutation)]\n",
    "    string = randString(length, endline=False)\n",
    "    for i in range(mutation):               #generate numbers 4 distinct index numbers to mutate\n",
    "        rand = rd.randint(0,length-1)         #generate mutation index number\n",
    "        while(checkIfMutated(check, rand)): #check if the gene in given index already mutated\n",
    "            rand = rd.randint(0,length-1)   #if mutated choose another random index\n",
    "        check[i] = rand\n",
    "    #print(string)\n",
    "    string = list(string)                   #changes to list form to be able to edit the string\n",
    "    for i in check:\n",
    "        string[i] = randMut(string[i])      #mutate the indexes. Indexes stored in 'check'\n",
    "    string = ''.join(string)\n",
    "    return string\n",
    "\n",
    "#print(generateMotif())"
   ]
  },
  {
   "cell_type": "markdown",
   "metadata": {},
   "source": [
    "This segment generates the whole DNA text and inserts motifs randomly to each line. You can differentiate each line with the indentation in text. Since it can't contain 500 characters in one line in jupyter"
   ]
  },
  {
   "cell_type": "code",
   "execution_count": 4,
   "metadata": {
    "scrolled": false
   },
   "outputs": [
    {
     "name": "stdout",
     "output_type": "stream",
     "text": [
      "GACGGTACTAGCCGGGCTTCTTAGCGATGGTTTATTCGACCATGGTGGTGGTCGACCACTCCGTCTCGGTGAGTTGATGGTTGTTTAGGCATTCGCGGAACTGCACGCCGTAGCAGAGACCATAATACCTAGGTTACTTTCACTTGCTACCTTCCGACCGATGCGTTCGTTCCGAACAGTAGCCACTTTTATATTTCTATTTAGCCACATATTCCCCCGAGGTGTGCGGCCTAACCGGTAGAGAATAGAGCCTTTAGAAGGCAAACtAcTTgGtCAGACGACGAGACTTACTCTGGCCACGGAGTTTACCGTACCATAATGCAGCGATTATTTTACCCGGGCAAGAATGCTCCAACGATATTACGCCAGGTTACACAACAATACACCAAGATTAGCGTACCCAGGGTTGGCGCACATTGGCTCTAGGTTGCTAGGGCAATTTAACTGCGGCGGGTTACCAAAAGGCTTTTCCAAAGTGTATCAGCCAGCGCTAGAGAGGT\n",
      "GGGTATAGGCGActActCCCATACAACTTCGGCGTGTGGGGTTGACGGGTTGACAATATACGCAACAAGGTAAAGAGCGTTCCTTAGCGCGAGGTATACTAATTATAAGTGTCAGTGCCGCGTTGACTCTATCGTATTTTCCCAGGAAAACTGTGCTAAAGTAGTGGGTCCGCGAGTTATCAACGTCAAAGATGGAAACTATATCTTTTTGGGATTCTGCTGTAACATGCTGCACAGTGACAAGAGGCACAGCTTACAAGCTGATGTTGTTCAGGGAGCAGAGCAGTACCCATTGGGGCTGAATTATTGATTATAGCATGAATCAGAGAATCATGTCATTATCAGTCCTCGGTGTAAAATTTTGACCCCTACGTCAGCCACTAGCGGATTCCGTAGATAACTCAGACGGTTGAGAATCGCAAACATTTGCGGTCGATCGCTCACATGCCAGAACCAATACGTCAGTAGCTGCCGAAGAGAGTGCTTTTGTTCGACATTTA\n",
      "TTACTCTTAGTTGAATAGCAGCGGCCGGTTTAAGGTGTCTAAGGTAATTAGTACTTGGGAAGTGCGCAAGACAATAGATAAGCTTTCTCCTGAaTGaGgAtAGGCGCCCGGTCTTGGTGTCGCACTTCGCGCACTTCCGAATTCCATAAAGCTTTGATTGCGATTTGACAAGCCAGTCGGATACCCGATATTTCCATGTCCCGAATCCGGTACGGAGAATAGGGTTCAAATGACCTACCTCTTCCAGCCATTTAGTGTCTCGTGGCGTTCCGATATAACAGGCAACGTTTATTTTCGGATGGGTGACCAGATGTACTTCATTGATCAAGCGCCGGCGTTTCACCTGAATGTGACTTGACTCATGGTATGTTCACCCATCGAGAAGACGCGTTGGAATTCCGAGCAGGCGGGCATCAGCAAGGCTACGCGATCACTAGTCGAGTACGGAAGGACACGAGAATGTGCCCTGCTGGTCAATTCACAGCCAAGTCCTGAGGCAA\n",
      "ATGGGACAGTAGTATGATTGCGTCGTTTAGAGTCAACCTCGATAGCCCTCATGATGGACCAACTGGTCTAATATAAGATTTGCCCTGTGTCCGAAAGATGGGTAATGTTCGAGTAACAGCCAGGGGATCGAGCAGCGGTAGACAAACCGGTCGACGCTCTCCCCGTCTCAAGCAAGTGTGCTCAGGAGGGCGGGCCGTTCTGTGTGTGAGGGCACACTGGTTGGACGCCACGCACCCATGCATCATACTCGGAAGGGTCAGACAGGAGCGTAAGTCCATCTCAGGCTTGTACTCAACAAATCGCCGATATAGAGCGACAGGATCTTACACGGGGGGGGAGGTTCAAACAAGCAGCAAAGATACCGTTTTAGTTATTAAGTGGATTTGAAGTAGGTATTTGCATATTATGCGGGCCCGAGGTATTAGTGTAGGTGTATTTAGGGGAGTGTCGTACCCTTCCCTGGTCATCCacAGaCcTCGGGAAGTATCGCTATCATGGT\n",
      "ATCAATTTAACCGCTAGCACGCTTCGGTAAGGCTGGAAGTGAAGTGATGATTGGTGTTCCATTCTGTTTGACATTTTGAGTAGAAGACGACCGAGAAAGTAGGGTGCTAAGCCCAGCCCGATAACCAGGTAATACTTTCGGAATAGACTGAAACACTAGCAGGCGATCTCCTTGGCAGCAATCTACACTTAAATATAATTGGGCTTCCGACCTTCAGAGGCCGGCACTCACAGCATGCAAGAACGACCGATCTTTTAGAGTTTGTGACTcGcaACaAATTGTGTCGATCGATCTCCCTAATCTCAGATACAATGCATCACTCCTCAGTCAGACACTCCGTCTGCCCACTTTGATTGAAGGTAAGGTGATCATGGTACGGCAAAACTCAAAGGCTCATGGCAGAAGCCGGAACGCCTAATTTGTATCAGTCCGTCGGGTACTCCGTTGTCTCAGGGAGATCAAGTACCAACACTACGATTTAACTCTATAGGACTACAATT\n",
      "\n"
     ]
    }
   ],
   "source": [
    "def generateText(length=10, mutation=4, lineLength=500, numberOfLines=5):\n",
    "    listToFill = \"\"\n",
    "    for i in range(numberOfLines):              #iterates through number of lines\n",
    "        listToFill = listToFill + randString(lineLength)  #adds another line of dna string\n",
    "        indexToMotif = rd.randint(i*lineLength, i*lineLength+(lineLength-length)) #decides the index to put the motif to\n",
    "        while (indexToMotif%lineLength == 0 and indexToMotif != 0):         #checks to make sure not to hit a '\\n'\n",
    "            indexToMotif = rd.randint(i*lineLength, i*lineLength+(lineLength-length)) #if it hits a '\\n' randomize again\n",
    "        motifToInsert = generateMotif(length, mutation)       #generates the motif to insert\n",
    "        listToFill = list(listToFill)\n",
    "        for k in range(length): #inserts motif to the random index as the length of the motif\n",
    "            listToFill[indexToMotif+k] = motifToInsert[k] #replaces char by char\n",
    "        listToFill = ''.join(listToFill)\n",
    "    return ''.join(listToFill)\n",
    "#print(generateText())"
   ]
  },
  {
   "cell_type": "markdown",
   "metadata": {},
   "source": [
    "Using 5 lines for easier implementation and taking a quick look of how it performs. Also testing for reading and writing operations"
   ]
  },
  {
   "cell_type": "code",
   "execution_count": 5,
   "metadata": {
    "scrolled": false
   },
   "outputs": [
    {
     "name": "stdout",
     "output_type": "stream",
     "text": [
      "ATGCGCCTTTACAGACGCTGACCCCTTAAACTCCTCTGAGTCGTTAGATTGACTAGCGGATGGTCTGACAACGCGATAAGGCTGTGCGGTGGACGTTCCATCTCGTTGTGACCGCTACAGAATCACACCCTACATTTCCGCAGCAGGGCTCGCGTGAAAGTGCGACAGGCTGCCGGGGGGTCCCTCATCACTCACCCGATCTTTGagATTgtAATAAGCCAAACTAGCTCACGTCTAGCCCTACTACATCTCATGGAGATCTGTGGTCCTCCCAAGATGGGCTCTTATTGAAGCGCTGCGTTGGGATTTCACATGGGGATGTCCTTAAAATCATTTATTATGGGAGACGGAGGGATGTAGTCATGATGAGTATCCCCTCGTCGAGAACCATCGGCGTCCCTCCGCGTCCCCTCAAACGTAACTAGTTGCTTAACGGCGGCATATAAGGCGATCTTTAAACAAACTTAGCCTTATGCACTCAGTAGCGGCATTTTAGATAG\n",
      "GAGATGCCACACTAAGTCTGTCAGCCACAAGCCAACATTATGGTTATAGCAACCGAACTCGCATAGCGAACGAGCTTTTAATCCAGTCGATGCCGCCTTAAGTAGTAGACGCTCTAATATCAGTCTGAAACCGGACCGGCCAGCACAGGACTGGCCCATAcaCATctGGACGGGAGTGATCGGGTCTATTTAATCGTCAAAATATCTACCTCCTCTCACAATTTTGGCTCATGAGAGGACTCTACGCGAGATCGGGCGTGATCTGTCGATGTTACCGTTTGTTCATTTTGTGCAAAGTTCATTTTGACTACACACGTATCATCGCGTGAGTTCGCCGAACTACCTGGCGGAGCAGCAGTTGTAAGTCTTTGAGGTTAAGTAAATGCAGTTCCATTGGGGAGCACCCTTAATGCTAGTGCTCGCAATCTTGCGCCCCCCCACAATGACCACGGATGGTTTTATCTATATTCTGGATTTCTAGGAATACTGAATCGGAAAGG\n",
      "TACCAAGTACTTTCAGGACGCTGTGGGTATCAGTGTCATATTACGAGATCACGGCAGTTTACCGAAGAAACAACTGTTTAAAAACTTACTGTGTGCCTTAaCGGgAttTATCCAACTCGGTGTCACACGTTTCCTGACTTTGCTGGGCCTGTCAGTGCTACATGATTTACTATTTACCCAGCAACGATATCCCGCGAGAGGGAGCGCCGCCCAGCACCTCATCACATAAGGGCATCTGATTGAAAACCATGGGGGTCGAAAAGTCATTAGTATATAACTGGATTAAACATTCAATTTAGCCAGGTTATTGTGTAATCTTGTCGGACCCTTCTTAAAACGGCTGAAAAGCGGGGATGGAGGGCCGTGGGCTTTTAGCCCCGCTTGAGCTCAGGGCCCCCCAGCTACTAAACTTGCCATCATCACTAACGTAGCCCGAGAGTCTGTTTCTGTTCGAGCCTGTATCATGCAAGGGTAATCAAGTGTTTGACCATTCGAAGAAC\n",
      "GGTTTATACCTCCCTTTATATCGAGAAATGGGGGTAGACAGGTGACGAACGACCACAGAGCAGACGGCGCGCGTTGGCGATCACCGAGAAAACGGGCATCCTAACGAAAACAAGCGCACATCCTCACTGTTCTGTTGGATAAAACCTTGCTACGTTTTGAGTATTAGTAGGACCGTAGCAATCAGGAAACCGACAGCTCTTTCGGCCCATTATacGtACaACATCCCCAATAAGAACCTAGGAGTGCTCACAAACTTAGTACATACCCCTAGCGTGTTATAGAGACCTATGAGTGACTCCTTCCCATGACGGTTTTTTAAGAAGTGGAACCCGTTAGGAGAATTATTCACAACCCGGTGGTGTAGTGAATCTACGTCTATCAGAGGTTATCCTATTAGAATACTTCTCGTGCATCTGAGTGACTCTCTGATCTTACGGCCCCTGGTGTCTTGGGCGTTAGAAGCAGTGTCTGTACCCAGAAAAACCAACTACCCACGAGA\n",
      "AGATATCGCGCCGACGGGATTATGTAGGCCAAAGGCTCTCACCGCGCATTAGGGTAGTCAATGCACCGGCATCTTGTCTCAAGGACCAACTAAGGCTAGTTCAATCCTCAATAGCGATCATCCAACGAAGTAGTGCAGCGCATTCGACGATTGCTTATTTGGGGAGAGGCAGGCACAGTATGCGGTACAGGATAGCTTGGGGGCGATAGCGCCGTTGCTAAACCACCGTCTGTGCACAACCCCCGTCAGATAAGCGGTCTATGTAAGGCAGCATTCCACGGCTTGTAGCCGGTAGTACCCCGAGAGGTACAAACCCTCGCGTTAcAtTTgAaCTGCGGAAACATCTAATAAATAAACTGCTGCTACTCGGCACAATGTCCGCCTTTTCTCTGCACCCGATTCTTCACAGACGGCCAAGTCATAGCACTAGCCTCTGACGGGTCTTCGAGTGGCCGGACGCCTAATCGCTCACATCTAGTCATTAGAGCTGCAGCGTAAGC\n",
      "\n"
     ]
    }
   ],
   "source": [
    "f = open(\"Generated.txt\", \"w\")\n",
    "f.write(generateText(length=10, mutation=4, lineLength=500, numberOfLines=5))\n",
    "f.close()\n",
    "f = open(\"Generated.txt\", \"r\")\n",
    "text = f.read()\n",
    "f.close()\n",
    "#print(text)"
   ]
  },
  {
   "cell_type": "markdown",
   "metadata": {},
   "source": [
    "Splitting each line in to a different dna text"
   ]
  },
  {
   "cell_type": "code",
   "execution_count": 6,
   "metadata": {
    "scrolled": false
   },
   "outputs": [
    {
     "data": {
      "text/plain": [
       "['ATGCGCCTTTACAGACGCTGACCCCTTAAACTCCTCTGAGTCGTTAGATTGACTAGCGGATGGTCTGACAACGCGATAAGGCTGTGCGGTGGACGTTCCATCTCGTTGTGACCGCTACAGAATCACACCCTACATTTCCGCAGCAGGGCTCGCGTGAAAGTGCGACAGGCTGCCGGGGGGTCCCTCATCACTCACCCGATCTTTGagATTgtAATAAGCCAAACTAGCTCACGTCTAGCCCTACTACATCTCATGGAGATCTGTGGTCCTCCCAAGATGGGCTCTTATTGAAGCGCTGCGTTGGGATTTCACATGGGGATGTCCTTAAAATCATTTATTATGGGAGACGGAGGGATGTAGTCATGATGAGTATCCCCTCGTCGAGAACCATCGGCGTCCCTCCGCGTCCCCTCAAACGTAACTAGTTGCTTAACGGCGGCATATAAGGCGATCTTTAAACAAACTTAGCCTTATGCACTCAGTAGCGGCATTTTAGATAG',\n",
       " 'GAGATGCCACACTAAGTCTGTCAGCCACAAGCCAACATTATGGTTATAGCAACCGAACTCGCATAGCGAACGAGCTTTTAATCCAGTCGATGCCGCCTTAAGTAGTAGACGCTCTAATATCAGTCTGAAACCGGACCGGCCAGCACAGGACTGGCCCATAcaCATctGGACGGGAGTGATCGGGTCTATTTAATCGTCAAAATATCTACCTCCTCTCACAATTTTGGCTCATGAGAGGACTCTACGCGAGATCGGGCGTGATCTGTCGATGTTACCGTTTGTTCATTTTGTGCAAAGTTCATTTTGACTACACACGTATCATCGCGTGAGTTCGCCGAACTACCTGGCGGAGCAGCAGTTGTAAGTCTTTGAGGTTAAGTAAATGCAGTTCCATTGGGGAGCACCCTTAATGCTAGTGCTCGCAATCTTGCGCCCCCCCACAATGACCACGGATGGTTTTATCTATATTCTGGATTTCTAGGAATACTGAATCGGAAAGG',\n",
       " 'TACCAAGTACTTTCAGGACGCTGTGGGTATCAGTGTCATATTACGAGATCACGGCAGTTTACCGAAGAAACAACTGTTTAAAAACTTACTGTGTGCCTTAaCGGgAttTATCCAACTCGGTGTCACACGTTTCCTGACTTTGCTGGGCCTGTCAGTGCTACATGATTTACTATTTACCCAGCAACGATATCCCGCGAGAGGGAGCGCCGCCCAGCACCTCATCACATAAGGGCATCTGATTGAAAACCATGGGGGTCGAAAAGTCATTAGTATATAACTGGATTAAACATTCAATTTAGCCAGGTTATTGTGTAATCTTGTCGGACCCTTCTTAAAACGGCTGAAAAGCGGGGATGGAGGGCCGTGGGCTTTTAGCCCCGCTTGAGCTCAGGGCCCCCCAGCTACTAAACTTGCCATCATCACTAACGTAGCCCGAGAGTCTGTTTCTGTTCGAGCCTGTATCATGCAAGGGTAATCAAGTGTTTGACCATTCGAAGAAC',\n",
       " 'GGTTTATACCTCCCTTTATATCGAGAAATGGGGGTAGACAGGTGACGAACGACCACAGAGCAGACGGCGCGCGTTGGCGATCACCGAGAAAACGGGCATCCTAACGAAAACAAGCGCACATCCTCACTGTTCTGTTGGATAAAACCTTGCTACGTTTTGAGTATTAGTAGGACCGTAGCAATCAGGAAACCGACAGCTCTTTCGGCCCATTATacGtACaACATCCCCAATAAGAACCTAGGAGTGCTCACAAACTTAGTACATACCCCTAGCGTGTTATAGAGACCTATGAGTGACTCCTTCCCATGACGGTTTTTTAAGAAGTGGAACCCGTTAGGAGAATTATTCACAACCCGGTGGTGTAGTGAATCTACGTCTATCAGAGGTTATCCTATTAGAATACTTCTCGTGCATCTGAGTGACTCTCTGATCTTACGGCCCCTGGTGTCTTGGGCGTTAGAAGCAGTGTCTGTACCCAGAAAAACCAACTACCCACGAGA',\n",
       " 'AGATATCGCGCCGACGGGATTATGTAGGCCAAAGGCTCTCACCGCGCATTAGGGTAGTCAATGCACCGGCATCTTGTCTCAAGGACCAACTAAGGCTAGTTCAATCCTCAATAGCGATCATCCAACGAAGTAGTGCAGCGCATTCGACGATTGCTTATTTGGGGAGAGGCAGGCACAGTATGCGGTACAGGATAGCTTGGGGGCGATAGCGCCGTTGCTAAACCACCGTCTGTGCACAACCCCCGTCAGATAAGCGGTCTATGTAAGGCAGCATTCCACGGCTTGTAGCCGGTAGTACCCCGAGAGGTACAAACCCTCGCGTTAcAtTTgAaCTGCGGAAACATCTAATAAATAAACTGCTGCTACTCGGCACAATGTCCGCCTTTTCTCTGCACCCGATTCTTCACAGACGGCCAAGTCATAGCACTAGCCTCTGACGGGTCTTCGAGTGGCCGGACGCCTAATCGCTCACATCTAGTCATTAGAGCTGCAGCGTAAGC']"
      ]
     },
     "execution_count": 6,
     "metadata": {},
     "output_type": "execute_result"
    }
   ],
   "source": [
    "DNA = text.splitlines() "
   ]
  },
  {
   "cell_type": "markdown",
   "metadata": {},
   "source": [
    "### Randomized Motif Search Functions"
   ]
  },
  {
   "cell_type": "markdown",
   "metadata": {},
   "source": [
    "This function takes random motifs with length 'k' from each line. This function is also used in gibbs sampler"
   ]
  },
  {
   "cell_type": "code",
   "execution_count": 1073,
   "metadata": {},
   "outputs": [
    {
     "name": "stdout",
     "output_type": "stream",
     "text": [
      "['TCGCATTGGTCTCCGTCGTG', 'TTGCTGCGACCGCGATCATA', 'TTCCTAGTCCCAAACTACTT', 'TCCGCAATATACAGCTATTC', 'TCGGGGGACCACCGACGGGT', 'GCTCTCCGGGACGTCCGGCA', 'ATCCTTCTGGGCATCGTCTC', 'AGCAGCGTTGATCCCCCCTC', 'TGTTCTTACAGTATAATCTT', 'GTATGTTTCCTAGGTATCGT']\n"
     ]
    }
   ],
   "source": [
    "def randomKmer(DNA, k = 10):\n",
    "    randMotif = [[] for a in range(len(DNA))] #creates a list for motifs\n",
    "    for i in range(len(DNA)): #iterates thru lines\n",
    "        startPoint = rd.randint(0,len(DNA[i])-k) #randomly selects starting index\n",
    "        for m in range(k): \n",
    "            randMotif[i].append(list(DNA[i])[startPoint + m]) #adds each letter until the size is reached\n",
    "        randMotif[i] = ''.join(randMotif[i])\n",
    "    return randMotif\n",
    "#print(randomKmer(DNA,20))"
   ]
  },
  {
   "cell_type": "markdown",
   "metadata": {},
   "source": [
    "This  function finds out the probabilities of motif lists we give it to them. This is pretty important for us to find out and choose which motifs we'll get from DNA text lines\n",
    "Since we need to iterate through each motif first and character the second, the for loop is inverted from the conventional ones."
   ]
  },
  {
   "cell_type": "code",
   "execution_count": 494,
   "metadata": {
    "scrolled": true
   },
   "outputs": [
    {
     "name": "stdout",
     "output_type": "stream",
     "text": [
      "([{'A': 0.1, 'T': 0.3, 'G': 0.3, 'C': 0.3}, {'A': 0.1, 'T': 0.1, 'G': 0.2, 'C': 0.6}, {'A': 0.3, 'T': 0.2, 'G': 0.2, 'C': 0.3}, {'A': 0.4, 'T': 0.3, 'G': 0.2, 'C': 0.1}, {'A': 0.4, 'T': 0.2, 'G': 0.3, 'C': 0.1}], 32)\n"
     ]
    }
   ],
   "source": [
    "def probabilities(randomMotifList):\n",
    "    score = 0\n",
    "    motifs = randomMotifList\n",
    "    motifProb = [{'A':0.0,'T':0.0,'G':0.0,'C':0.0} for i in range(len(motifs[0]))] #creates a dictionary for each characters probability\n",
    "    #print(motifs)\n",
    "    for i in range(len(motifs[0])): #iterates through every character\n",
    "        A,T,G,C = 0,0,0,0\n",
    "        for m in range(len(motifs)): #iterates through every motif to add save their char counts\n",
    "            if(motifs[m][i].upper() == \"A\"): A = A + 1\n",
    "            elif(motifs[m][i].upper() == \"T\"): T = T + 1 #increase the char found\n",
    "            elif(motifs[m][i].upper() == \"G\"): G = G + 1\n",
    "            elif(motifs[m][i].upper() == \"C\"): C = C + 1\n",
    "            else: \n",
    "                #return\n",
    "                print(\"Unknown Character in motif sequence\")\n",
    "        #print(i,A,T,G,C,A+T+G+C)\n",
    "        motifProb[i]['A'] = A/(A+T+G+C) #find the probability for each\n",
    "        motifProb[i]['T'] = T/(A+T+G+C)\n",
    "        motifProb[i]['G'] = G/(A+T+G+C)\n",
    "        motifProb[i]['C'] = C/(A+T+G+C)\n",
    "        \n",
    "    consensusMotif = []\n",
    "    for i in range(len(motifs[0])): #find the consensus motif\n",
    "        consensusMotif.append(max(motifProb[i], key=motifProb[i].get))\n",
    "        \n",
    "    consensusMotif = ''.join(consensusMotif)\n",
    "\n",
    "    for a in range(len(motifs)): # find the consensus motifs score\n",
    "        for i in range(len(consensusMotif)):\n",
    "            if(consensusMotif[i] != motifs[a][i]): score = score + 1\n",
    "    #print(\"Consensus Motif: \", consensusMotif, \"Score:\", score)\n",
    "    return motifProb, score\n",
    "#print(probabilities(randomKmer(DNA,k=5)))"
   ]
  },
  {
   "cell_type": "markdown",
   "metadata": {},
   "source": [
    "This function finds out the most probable motifs in for every line and every possible iteration of sliding. Then returns its list of motifs"
   ]
  },
  {
   "cell_type": "code",
   "execution_count": 1171,
   "metadata": {
    "scrolled": true
   },
   "outputs": [
    {
     "name": "stdout",
     "output_type": "stream",
     "text": [
      "['AGTTTACTCC', 'AATATCCTAA', 'AGAAATCACG', 'AAATTGCTAT', 'AGTACTCTAT', 'GAAGTACTAT', 'AAAACACGCA', 'AGGGCTCTAA', 'AGGATTCTCG', 'GAAACACATA']\n"
     ]
    }
   ],
   "source": [
    "def mostProbableMotifs(DNA,probabilityList,k=10):\n",
    "    lineNum = 0\n",
    "    newMotifs = [\"\" for i in range(len(DNA))]\n",
    "    if(len(probabilityList)!=2):\n",
    "        probList = probabilityList\n",
    "    else:\n",
    "        probList, _ = probabilityList #probabilities(randomKmer(DNA))\n",
    "        \n",
    "    for lineNum in range(len(DNA)): #iterates lines in DNA\n",
    "        kMer = [{'motif':\"\", 'prob':1.0000000000000} for i in range(len(DNA[lineNum])-k)] #creates a new kMer list for that line\n",
    "        for m in range(len(DNA[lineNum])-k): #slides k length kMer in that line\n",
    "            kMer[m]['motif'] = DNA[lineNum][m:m+k] #saves the motif of that k length kMer in that line\n",
    "            for i in range(k): #iteratively multiplies probabilities to achieve probability of that motif\n",
    "                kMer[m]['prob'] = kMer[m]['prob']*probList[i][DNA[lineNum][m+i].upper()]\n",
    "            #if(kMer[m]['prob']>0):\n",
    "                #print(kMer[m])\n",
    "\n",
    "        maxMotif = 0.0000000000000\n",
    "        for l in range(len(kMer)): #to have the maximum probable motif in that line\n",
    "            if(maxMotif < kMer[l]['prob']): \n",
    "                maxMotif = kMer[l]['prob']\n",
    "                newMotifs[lineNum] = kMer[l]['motif'] #update the maximum for that line number\n",
    "\n",
    "        #print(\"Line:\",lineNum,\"Motif:\",newMotifs[lineNum],\"Probability:\",maxMotif)\n",
    "\n",
    "    return newMotifs\n",
    "#print(mostProbableMotifs(DNA,probabilities(randomKmer(DNA))))"
   ]
  },
  {
   "cell_type": "markdown",
   "metadata": {},
   "source": [
    "This was what I originally planned the function would be but after 3 or 5 iterations it reaches a maximum point for that random start and couldn't go further. So I implemented another better version below that uses this."
   ]
  },
  {
   "cell_type": "code",
   "execution_count": 1172,
   "metadata": {
    "scrolled": true
   },
   "outputs": [],
   "source": [
    "def RandomizedMotifStarter(DNA, k=10, t=10):\n",
    "    check = 0\n",
    "    bestMotifs = randomKmer(DNA,k)\n",
    "    probs, initialScore = probabilities(bestMotifs)\n",
    "    for i in range(t):\n",
    "        probMotifs = mostProbableMotifs(DNA,probs,k)\n",
    "        probs, score = probabilities(probMotifs)\n",
    "        if(score < initialScore):\n",
    "            check = 0\n",
    "            bestMotifs = probMotifs\n",
    "            initialScore = score\n",
    "        check = check+1\n",
    "        if(check >= 50): \n",
    "            print(\"I give up after\", check, \"iterations\")\n",
    "            break\n",
    "\n",
    "    motifProb , finalScore = probabilities(bestMotifs)\n",
    "    \n",
    "    consensusMotif = []\n",
    "    for i in range(k): #find the consensus motif\n",
    "        consensusMotif.append(max(motifProb[i], key=motifProb[i].get))\n",
    "        \n",
    "    consensusMotif = ''.join(consensusMotif)\n",
    "    #print(\"Consensus: \", consensusMotif, \"Score: \", finalScore)\n",
    "    \n",
    "    return bestMotifs, score, consensusMotif\n",
    "                      "
   ]
  },
  {
   "cell_type": "markdown",
   "metadata": {},
   "source": [
    "This function calls the earlier one a bunch of times and compares their scores and takes the best one. With this, we reach a much better solution because we compare and converge from different starting points. You can toy with all the parameters for best score value."
   ]
  },
  {
   "cell_type": "code",
   "execution_count": 1213,
   "metadata": {},
   "outputs": [],
   "source": [
    "def RandomizedMotifSearch(DNA, k=10, t=10, randomNum=10): #Random\n",
    "    print(\"---------------------------- Random Motif Search Started ----------------------------\")\n",
    "    bestMotifs, initialScore, consensusMotif = RandomizedMotifStarter(DNA,k,t)\n",
    "    print(\"Consensus: \", consensusMotif, \"Score: \", initialScore)\n",
    "    for i in range(randomNum-1):\n",
    "        probMotifs, score, consensusMotif = RandomizedMotifStarter(DNA,k,t)\n",
    "        print(\"Consensus: \", consensusMotif, \"Score: \", score)\n",
    "        if(i%2 == 0):\n",
    "            print(\"---------------------------- Random Batch\",i+2, \"----------------------------\")\n",
    "        if(score < initialScore):\n",
    "            bestMotifs = probMotifs\n",
    "            initialScore = score\n",
    "\n",
    "    \n",
    "    print(\"\\nConclusion after\", randomNum,\"random batch iteration:\")\n",
    "    motifProb , finalScore = probabilities(bestMotifs)\n",
    "    \n",
    "    consensusMotif = []\n",
    "    for i in range(k): #find the consensus motif\n",
    "        consensusMotif.append(max(motifProb[i], key=motifProb[i].get))\n",
    "        \n",
    "    consensusMotif = ''.join(consensusMotif)\n",
    "    print(\"Consensus: \", consensusMotif, \"Score: \", finalScore)\n",
    "    \n",
    "    print(\"Best Motifs: \", bestMotifs)\n",
    "    \n",
    "    return consensusMotif, finalScore"
   ]
  },
  {
   "cell_type": "markdown",
   "metadata": {},
   "source": [
    "### Gibbs Sampler Functions"
   ]
  },
  {
   "cell_type": "markdown",
   "metadata": {},
   "source": [
    "This function is similar to the randomized motif search's function. The difference being that it skips the line we chose and have different approach to calculating probabilities."
   ]
  },
  {
   "cell_type": "code",
   "execution_count": 1159,
   "metadata": {
    "scrolled": true
   },
   "outputs": [
    {
     "name": "stdout",
     "output_type": "stream",
     "text": [
      "([{'A': 0.3076923076923077, 'T': 0.3076923076923077, 'G': 0.3076923076923077, 'C': 0.07692307692307693}, {'A': 0.07692307692307693, 'T': 0.5384615384615384, 'G': 0.15384615384615385, 'C': 0.23076923076923078}, {'A': 0.38461538461538464, 'T': 0.23076923076923078, 'G': 0.15384615384615385, 'C': 0.23076923076923078}, {'A': 0.46153846153846156, 'T': 0.3076923076923077, 'G': 0.07692307692307693, 'C': 0.15384615384615385}, {'A': 0.5384615384615384, 'T': 0.15384615384615385, 'G': 0.15384615384615385, 'C': 0.15384615384615385}, {'A': 0.23076923076923078, 'T': 0.23076923076923078, 'G': 0.3076923076923077, 'C': 0.23076923076923078}, {'A': 0.3076923076923077, 'T': 0.23076923076923078, 'G': 0.23076923076923078, 'C': 0.23076923076923078}, {'A': 0.07692307692307693, 'T': 0.23076923076923078, 'G': 0.3076923076923077, 'C': 0.38461538461538464}, {'A': 0.23076923076923078, 'T': 0.3076923076923077, 'G': 0.23076923076923078, 'C': 0.23076923076923078}, {'A': 0.15384615384615385, 'T': 0.23076923076923078, 'G': 0.38461538461538464, 'C': 0.23076923076923078}], 'ATAAAGACTG')\n"
     ]
    }
   ],
   "source": [
    "def probabilitiesGibbs(randomMotifList,lineToIgnore):\n",
    "    #print(randomMotifList,\"length\" ,len(randomMotifList))\n",
    "    #print(\"line to ignore\", lineToIgnore)\n",
    "    if(lineToIgnore>=len(randomMotifList)):\n",
    "        return \"Error: The line number to ignore is greater than lines contained\"\n",
    "    \n",
    "    score = 0\n",
    "    motifs = randomMotifList\n",
    "    motifProb = [{'A':0.0,'T':0.0,'G':0.0,'C':0.0} for i in range(len(motifs[0]))] #creates a dictionary for each characters probability\n",
    "    #print(motifs)\n",
    "    for i in range(len(motifs[0])): #iterates through every character\n",
    "        A,T,G,C = 0,0,0,0\n",
    "        for m in range(len(motifs)): #iterates through every motif to add save their char counts\n",
    "            if(m==lineToIgnore): continue #skips the chosen line\n",
    "            if(motifs[m][i].upper() == \"A\"): A = A + 1\n",
    "            elif(motifs[m][i].upper() == \"T\"): T = T + 1 #increase the char found\n",
    "            elif(motifs[m][i].upper() == \"G\"): G = G + 1\n",
    "            elif(motifs[m][i].upper() == \"C\"): C = C + 1\n",
    "            else: \n",
    "                #return\n",
    "                print(\"Unknown Character in motif sequence\")\n",
    "        #print(i,A,T,G,C,A+T+G+C)\n",
    "        A,T,G,C = A+1,T+1,G+1,C+1\n",
    "        motifProb[i]['A'] = A/(A+T+G+C) #find the probability for each\n",
    "        motifProb[i]['T'] = T/(A+T+G+C)\n",
    "        motifProb[i]['G'] = G/(A+T+G+C)\n",
    "        motifProb[i]['C'] = C/(A+T+G+C)\n",
    "        \n",
    "        \n",
    "    consensusMotif = []\n",
    "    for i in range(len(motifs[0])): #find the consensus motif\n",
    "        consensusMotif.append(max(motifProb[i], key=motifProb[i].get))\n",
    "        \n",
    "    consensusMotif = ''.join(consensusMotif)\n",
    "\n",
    "    return motifProb, consensusMotif\n",
    "#print(probabilitiesGibbs(randomKmer(DNA,k=10),5))"
   ]
  },
  {
   "cell_type": "markdown",
   "metadata": {},
   "source": [
    "This function applies the probabilities we calculated earlier to the skipped line. After that, it adds them up to reach 'C'. Keep in mind this C is not citozine but the denumerator for our formula as given in the study material  "
   ]
  },
  {
   "cell_type": "code",
   "execution_count": 1174,
   "metadata": {},
   "outputs": [
    {
     "name": "stdout",
     "output_type": "stream",
     "text": [
      "['ACGTCTCTCT']\n"
     ]
    }
   ],
   "source": [
    "def mostProbableMotifGibbs(DNA,probabilityList,ignoredLine,k=10):\n",
    "    lineNum = ignoredLine\n",
    "    \n",
    "    if(len(probabilityList)!=2):\n",
    "        probList = probabilityList\n",
    "    else:\n",
    "        probList, _ = probabilityList\n",
    "        \n",
    "    kMer = [{'motif':\"\", 'prob':1.0000000000000} for i in range(len(DNA[lineNum])-k)] #creates a new kMer list for thatline\n",
    "    \n",
    "    #print(\"probList length\", len(probList))\n",
    "    for m in range(len(DNA[lineNum])-k): #slides k length kMer in that line\n",
    "        kMer[m]['motif'] = DNA[lineNum][m:m+k] #saves the motif of that k length kMer in that line\n",
    "        for i in range(k): #iteratively multiplies probabilities to achieve probability of that motif\n",
    "            kMer[m]['prob'] = kMer[m]['prob']*probList[i][DNA[lineNum][m+i].upper()]\n",
    "        #if(kMer[m]['prob']>0):\n",
    "            #print(kMer[m])\n",
    "\n",
    "    motifList = [] #hold the motif strings of the porbability values\n",
    "    weights = [] #holds the probability values of motifs\n",
    "    C = 0.00000000000000000000000001 #to handle division by zero\n",
    "    for i in range(len(kMer)):\n",
    "        C = C + kMer[i]['prob']\n",
    "        \n",
    "    for i in range(len(kMer)): #create the distribution\n",
    "        motifList.append(kMer[i]['motif']) \n",
    "        weights.append(kMer[i]['prob']/C)\n",
    "                \n",
    "    chosenMotif = rd.choices(motifList, weights, k = 1) #choose from distribution\n",
    "\n",
    "    return chosenMotif\n",
    "#print(mostProbableMotifGibbs(DNA,probabilitiesGibbs(randomKmer(DNA),5),5))"
   ]
  },
  {
   "cell_type": "markdown",
   "metadata": {},
   "source": [
    "After choosing a better motif for the skipped line, we insert it to our original motif list. By doing that we completed everything necessary for one iteration. \n",
    "\n",
    "This function also computes the score. Because we needed the updated version of the skipped line to compute it."
   ]
  },
  {
   "cell_type": "code",
   "execution_count": 855,
   "metadata": {},
   "outputs": [],
   "source": [
    "def insertTheIgnored(motifList, chosenMotif, ignoreIndex,consensusMotif):\n",
    "    score = 0\n",
    "    newMotifList = [\"\" for i in range(len(motifList))]\n",
    "    \n",
    "    for i in range(len(motifList)):\n",
    "        if(i == ignoreIndex):\n",
    "            newMotifList[i] = ''.join(chosenMotif)\n",
    "        else:\n",
    "            newMotifList[i] = motifList[i]\n",
    "        \n",
    "    for a in range(len(newMotifList)): # find the consensus motifs score\n",
    "        #print(newMotifList[a])\n",
    "        for i in range(len(consensusMotif)):\n",
    "            pass\n",
    "            if(consensusMotif[i] != newMotifList[a][i]): score = score + 1\n",
    "        \n",
    "    return newMotifList, score"
   ]
  },
  {
   "cell_type": "markdown",
   "metadata": {},
   "source": [
    "This is the main iterator for our algorithm. This somewhat closer to what you'll find in the text book pseudo-codes. Since this is only from one starting point, the score is not so great"
   ]
  },
  {
   "cell_type": "code",
   "execution_count": 1175,
   "metadata": {
    "scrolled": true
   },
   "outputs": [
    {
     "data": {
      "text/plain": [
       "(['GCTAATCACG',\n",
       "  'ATAGATACCT',\n",
       "  'GAATGTAAAG',\n",
       "  'CGAGTTTAAG',\n",
       "  'GCATATTCTG',\n",
       "  'ACAGGCTCCG',\n",
       "  'TGAGAAAAAA',\n",
       "  'CGCACATCGT',\n",
       "  'ACAGACTCAG',\n",
       "  'TCAGAAACAC'],\n",
       " 45,\n",
       " 'ACAGATTCAG')"
      ]
     },
     "execution_count": 1175,
     "metadata": {},
     "output_type": "execute_result"
    }
   ],
   "source": [
    "def GibbsMotifStart(DNA, k=10, t=10):\n",
    "    check = 0\n",
    "    initialMotifs = randomKmer(DNA,k)\n",
    "    indexToIgnore = rd.randint(0,len(DNA)-1)\n",
    "    probList = probabilitiesGibbs(initialMotifs,indexToIgnore)[0]\n",
    "    consensus = probabilitiesGibbs(initialMotifs,indexToIgnore)[1]\n",
    "    chosenMotif = mostProbableMotifGibbs(DNA,probList,indexToIgnore,k)\n",
    "    updatedMotifList, initialScore = insertTheIgnored(initialMotifs,chosenMotif,indexToIgnore,consensus)\n",
    "    for i in range(t):\n",
    "        indexToIgnore = rd.randint(0,len(DNA)-1)\n",
    "        if(len(probabilitiesGibbs(updatedMotifList,indexToIgnore))>2):\n",
    "            print(probabilitiesGibbs(updatedMotifList,indexToIgnore))\n",
    "        \n",
    "        probList, consensus = probabilitiesGibbs(updatedMotifList,indexToIgnore)\n",
    "        chosenMotif = mostProbableMotifGibbs(DNA,probList,indexToIgnore,k)\n",
    "        updatedMotifList, score = insertTheIgnored(updatedMotifList,chosenMotif,indexToIgnore,consensus)\n",
    "        if(score<initialScore):\n",
    "            check = 0\n",
    "            initialScore = score\n",
    "            bestMotifs = updatedMotifList\n",
    "        check = check+1\n",
    "        if(check >= 50): \n",
    "            print(\"I give up after\", check, \"iterations\")\n",
    "            break\n",
    "    \n",
    "    \n",
    "    motifProb , finalScore = probabilities(bestMotifs)\n",
    "    \n",
    "    consensusMotif = []\n",
    "    for i in range(k): #find the consensus motif\n",
    "        consensusMotif.append(max(motifProb[i], key=motifProb[i].get))\n",
    "        \n",
    "    consensusMotif = ''.join(consensusMotif)\n",
    "    #print(\"Consensus: \", consensusMotif, \"Score: \", finalScore)\n",
    "    return bestMotifs, finalScore, consensusMotif\n",
    "#GibbsMotifStart(DNA)"
   ]
  },
  {
   "cell_type": "markdown",
   "metadata": {},
   "source": [
    "That's why I also implemented a somekind of initiator. This function randomly initiates and takes the best score from each of the randomly initiated batches. This had a huge impact for the score"
   ]
  },
  {
   "cell_type": "code",
   "execution_count": 1210,
   "metadata": {},
   "outputs": [],
   "source": [
    "def GibbsSamplerSearch(DNA, k=10, t=10, randomNum=10): #Random\n",
    "    print(\"---------------------------- Gibbs Sampler Search Started ----------------------------\")\n",
    "    bestMotifs, initialScore, consensusMotif = GibbsMotifStart(DNA,k,t)\n",
    "    print(\"Consensus: \", consensusMotif, \"Score: \", initialScore)\n",
    "    for i in range(randomNum-1):\n",
    "        probMotifs, score, consensusMotif = GibbsMotifStart(DNA,k,t)\n",
    "        print(\"Consensus: \", consensusMotif, \"Score: \", score)\n",
    "\n",
    "        if(i%2 == 0):\n",
    "            print(\"---------------------------- Random Batch\",i+2, \"----------------------------\")\n",
    "        if(score < initialScore):\n",
    "            bestMotifs = probMotifs\n",
    "            initialScore = score\n",
    "    \n",
    "    print(\"\\nConclusion after\", randomNum,\"random batch iteration:\")\n",
    "    motifProb , finalScore = probabilities(bestMotifs)\n",
    "    \n",
    "    consensusMotif = []\n",
    "    for i in range(k): #find the consensus motif\n",
    "        consensusMotif.append(max(motifProb[i], key=motifProb[i].get))\n",
    "        \n",
    "    consensusMotif = ''.join(consensusMotif)\n",
    "    print(\"Consensus: \", consensusMotif, \"Score: \", finalScore)\n",
    "    \n",
    "    print(\"Best Motifs: \", bestMotifs)\n",
    "    return consensusMotif, finalScore"
   ]
  },
  {
   "cell_type": "markdown",
   "metadata": {},
   "source": [
    "### Algorithm Testing and Comparison"
   ]
  },
  {
   "cell_type": "markdown",
   "metadata": {},
   "source": [
    "The final tests with the actual parameters presented in assignment with all the functions.\n",
    "\n",
    "First we generate and read a DNA text file.\n",
    "\n",
    "Then we split the text file we read line by line and contain it in a list\n",
    "\n",
    "Then we initiate our general parameters for our functions"
   ]
  },
  {
   "cell_type": "code",
   "execution_count": 1089,
   "metadata": {},
   "outputs": [],
   "source": [
    "f = open(\"Generated.txt\", \"w\")\n",
    "f.write(generateText(length=10, mutation=4, lineLength=500, numberOfLines=10))\n",
    "f.close()\n",
    "f = open(\"Generated.txt\", \"r\")\n",
    "text = f.read()\n",
    "f.close()\n",
    "#print(text)\n",
    "DNA = text.splitlines()\n",
    "t = 200 #if it can't converge after 200 just take it\n",
    "randomNum = 10 #how many random starting points?"
   ]
  },
  {
   "cell_type": "code",
   "execution_count": 1214,
   "metadata": {
    "scrolled": false
   },
   "outputs": [
    {
     "name": "stdout",
     "output_type": "stream",
     "text": [
      "---------------------------- Random Motif Search Started ----------------------------\n",
      "I give up after 50 iterations\n",
      "Consensus:  GCAACGTCC Score:  23\n",
      "I give up after 50 iterations\n",
      "Consensus:  TAAGGGGAT Score:  29\n",
      "---------------------------- Random Batch 2 ----------------------------\n",
      "I give up after 50 iterations\n",
      "Consensus:  ATAGTAGGG Score:  29\n",
      "I give up after 50 iterations\n",
      "Consensus:  TCTACGGCT Score:  25\n",
      "---------------------------- Random Batch 4 ----------------------------\n",
      "I give up after 50 iterations\n",
      "Consensus:  TTCTACTGA Score:  32\n",
      "I give up after 50 iterations\n",
      "Consensus:  GCCGTATCG Score:  26\n",
      "---------------------------- Random Batch 6 ----------------------------\n",
      "I give up after 50 iterations\n",
      "Consensus:  TAGCATCTT Score:  32\n",
      "I give up after 50 iterations\n",
      "Consensus:  TAGCACGAA Score:  30\n",
      "---------------------------- Random Batch 8 ----------------------------\n",
      "I give up after 50 iterations\n",
      "Consensus:  AGGGGAGGC Score:  24\n",
      "I give up after 50 iterations\n",
      "Consensus:  GCGGAGGGC Score:  26\n",
      "---------------------------- Random Batch 10 ----------------------------\n",
      "\n",
      "Conclusion after 10 random batch iteration:\n",
      "Consensus:  GCAACGTCC Score:  23\n",
      "Best Motifs:  ['GCATCGTCC', 'GAAACCCCC', 'GCATGGAGC', 'GCAACGTCA', 'GGATCCCCC', 'GCAACGAGC', 'GCACCGTCC', 'GCAGCGTCC', 'GCAACGCCC', 'GAATCCGGC']\n"
     ]
    }
   ],
   "source": [
    "consensus_rand9, score_rand9 = RandomizedMotifSearch(DNA,k=9,t=t,randomNum=randomNum)"
   ]
  },
  {
   "cell_type": "code",
   "execution_count": 1215,
   "metadata": {},
   "outputs": [
    {
     "name": "stdout",
     "output_type": "stream",
     "text": [
      "---------------------------- Random Motif Search Started ----------------------------\n",
      "I give up after 50 iterations\n",
      "Consensus:  TACCTGGAGG Score:  35\n",
      "I give up after 50 iterations\n",
      "Consensus:  TAGTAGATGC Score:  40\n",
      "---------------------------- Random Batch 2 ----------------------------\n",
      "I give up after 50 iterations\n",
      "Consensus:  AGAACTACAT Score:  30\n",
      "I give up after 50 iterations\n",
      "Consensus:  ATAGCTTGAG Score:  33\n",
      "---------------------------- Random Batch 4 ----------------------------\n",
      "I give up after 50 iterations\n",
      "Consensus:  TTATTATTAT Score:  38\n",
      "I give up after 50 iterations\n",
      "Consensus:  CGGAGCGACC Score:  33\n",
      "---------------------------- Random Batch 6 ----------------------------\n",
      "I give up after 50 iterations\n",
      "Consensus:  GTTACTGAGA Score:  33\n",
      "I give up after 50 iterations\n",
      "Consensus:  CTTGCTCGCG Score:  33\n",
      "---------------------------- Random Batch 8 ----------------------------\n",
      "I give up after 50 iterations\n",
      "Consensus:  AGTACAAAGC Score:  33\n",
      "I give up after 50 iterations\n",
      "Consensus:  CAATACATAT Score:  34\n",
      "---------------------------- Random Batch 10 ----------------------------\n",
      "\n",
      "Conclusion after 10 random batch iteration:\n",
      "Consensus:  AGAACTACAT Score:  30\n",
      "Best Motifs:  ['AGAACAACAT', 'ATGAATACCT', 'ATAACTACAC', 'AGGACAAGGT', 'GGGACTCAAG', 'AGATATACGT', 'AGAACTATAt', 'GGGAGTACGT', 'GGAACTACGG', 'AGAAACACAT']\n"
     ]
    }
   ],
   "source": [
    "consensus_rand10, score_rand10 = RandomizedMotifSearch(DNA,k=10,t=t,randomNum=randomNum)"
   ]
  },
  {
   "cell_type": "code",
   "execution_count": 1216,
   "metadata": {},
   "outputs": [
    {
     "name": "stdout",
     "output_type": "stream",
     "text": [
      "---------------------------- Random Motif Search Started ----------------------------\n",
      "I give up after 50 iterations\n",
      "Consensus:  TAGCGCGAATT Score:  39\n",
      "I give up after 50 iterations\n",
      "Consensus:  TGAAACATTTG Score:  34\n",
      "---------------------------- Random Batch 2 ----------------------------\n",
      "I give up after 50 iterations\n",
      "Consensus:  CTCTCTATCTG Score:  43\n",
      "I give up after 50 iterations\n",
      "Consensus:  CTTTCGGAGAT Score:  42\n",
      "---------------------------- Random Batch 4 ----------------------------\n",
      "I give up after 50 iterations\n",
      "Consensus:  ATAGCGTAGTA Score:  45\n",
      "I give up after 50 iterations\n",
      "Consensus:  GTCGTGTCGAG Score:  37\n",
      "---------------------------- Random Batch 6 ----------------------------\n",
      "I give up after 50 iterations\n",
      "Consensus:  CACGTCCGGCC Score:  38\n",
      "I give up after 50 iterations\n",
      "Consensus:  CCGCGGAGGCT Score:  36\n",
      "---------------------------- Random Batch 8 ----------------------------\n",
      "I give up after 50 iterations\n",
      "Consensus:  AATCCGGAGAA Score:  42\n",
      "I give up after 50 iterations\n",
      "Consensus:  GAGAAGCAGCT Score:  38\n",
      "---------------------------- Random Batch 10 ----------------------------\n",
      "\n",
      "Conclusion after 10 random batch iteration:\n",
      "Consensus:  TGAAACATTTG Score:  34\n",
      "Best Motifs:  ['TGGAACATTTg', 'AGATACCTGTC', 'TGATACAGTCG', 'TGATCCAGTTG', 'TGAAGGATTTT', 'AGATATACGTG', 'GGAAACCTTGA', 'TAaATCATTTG', 'TTAAACTTTGC', 'TGAACCATGTG']\n"
     ]
    }
   ],
   "source": [
    "consensus_rand11, score_rand11 = RandomizedMotifSearch(DNA,k=11,t=t,randomNum=randomNum)"
   ]
  },
  {
   "cell_type": "code",
   "execution_count": 1217,
   "metadata": {},
   "outputs": [
    {
     "name": "stdout",
     "output_type": "stream",
     "text": [
      "---------------------------- Gibbs Sampler Search Started ----------------------------\n",
      "I give up after 50 iterations\n",
      "Consensus:  GTATGAATG Score:  24\n",
      "I give up after 50 iterations\n",
      "Consensus:  CTTTTGCAA Score:  29\n",
      "---------------------------- Random Batch 2 ----------------------------\n",
      "I give up after 50 iterations\n",
      "Consensus:  CTCCGGTCT Score:  30\n",
      "I give up after 50 iterations\n",
      "Consensus:  TTAGATATG Score:  33\n",
      "---------------------------- Random Batch 4 ----------------------------\n",
      "I give up after 50 iterations\n",
      "Consensus:  GTGTTAAGC Score:  29\n",
      "I give up after 50 iterations\n",
      "Consensus:  CGTCATTCT Score:  33\n",
      "---------------------------- Random Batch 6 ----------------------------\n",
      "I give up after 50 iterations\n",
      "Consensus:  ATCCCCAAA Score:  31\n",
      "I give up after 50 iterations\n",
      "Consensus:  TTTCAGTCG Score:  32\n",
      "---------------------------- Random Batch 8 ----------------------------\n",
      "I give up after 50 iterations\n",
      "Consensus:  AGAATGACC Score:  29\n",
      "I give up after 50 iterations\n",
      "Consensus:  CCAGGAGTT Score:  29\n",
      "---------------------------- Random Batch 10 ----------------------------\n",
      "\n",
      "Conclusion after 10 random batch iteration:\n",
      "Consensus:  GTATGAATG Score:  24\n",
      "Best Motifs:  ['ATATTAAAG', 'GAATGAATG', 'GTATGCATG', 'GAAAAAAGG', 'GTATTAATG', 'GTATGAACG', 'CTAGCAAAT', 'GAATGAATT', 'GTTTAAACT', 'GTAAGAAAG']\n"
     ]
    }
   ],
   "source": [
    "consensus_gibbs9, score_gibbs9 = GibbsSamplerSearch(DNA,k=9,t=t,randomNum=randomNum)"
   ]
  },
  {
   "cell_type": "code",
   "execution_count": 1218,
   "metadata": {},
   "outputs": [
    {
     "name": "stdout",
     "output_type": "stream",
     "text": [
      "---------------------------- Gibbs Sampler Search Started ----------------------------\n",
      "I give up after 50 iterations\n",
      "Consensus:  GCCTTGTAGA Score:  35\n",
      "I give up after 50 iterations\n",
      "Consensus:  GGAGCACCAA Score:  32\n",
      "---------------------------- Random Batch 2 ----------------------------\n",
      "I give up after 50 iterations\n",
      "Consensus:  TCGCAGTGCA Score:  39\n",
      "I give up after 50 iterations\n",
      "Consensus:  AGCACGTATT Score:  28\n",
      "---------------------------- Random Batch 4 ----------------------------\n",
      "I give up after 50 iterations\n",
      "Consensus:  AATATCTTAG Score:  35\n",
      "I give up after 50 iterations\n",
      "Consensus:  TATACGAGTC Score:  40\n",
      "---------------------------- Random Batch 6 ----------------------------\n",
      "I give up after 50 iterations\n",
      "Consensus:  GATAACTTGA Score:  30\n",
      "I give up after 50 iterations\n",
      "Consensus:  CAATAACATG Score:  43\n",
      "---------------------------- Random Batch 8 ----------------------------\n",
      "I give up after 50 iterations\n",
      "Consensus:  TGATTGAATC Score:  40\n",
      "I give up after 50 iterations\n",
      "Consensus:  GTTTTGAATA Score:  38\n",
      "---------------------------- Random Batch 10 ----------------------------\n",
      "\n",
      "Conclusion after 10 random batch iteration:\n",
      "Consensus:  AGCACGTATT Score:  28\n",
      "Best Motifs:  ['ATCACGAGTT', 'CGCACATATG', 'TGCACGGATA', 'AGGAAGTATT', 'GGCATGTATT', 'AGCAGTTGTG', 'AGCAAATATT', 'AGTACGTATA', 'AACGAGGATT', 'AGGACGCACT']\n"
     ]
    }
   ],
   "source": [
    "consensus_gibbs10, score_gibbs10 = GibbsSamplerSearch(DNA,k=10,t=t,randomNum=randomNum)"
   ]
  },
  {
   "cell_type": "code",
   "execution_count": 1219,
   "metadata": {},
   "outputs": [
    {
     "name": "stdout",
     "output_type": "stream",
     "text": [
      "---------------------------- Gibbs Sampler Search Started ----------------------------\n",
      "I give up after 50 iterations\n",
      "Consensus:  CAGGGCATGCAA Score:  42\n",
      "I give up after 50 iterations\n",
      "Consensus:  TCCTGCATAGTT Score:  39\n",
      "---------------------------- Random Batch 2 ----------------------------\n",
      "I give up after 50 iterations\n",
      "Consensus:  TTTCTTAAATAT Score:  43\n",
      "I give up after 50 iterations\n",
      "Consensus:  AAGGGTTGTGCT Score:  42\n",
      "---------------------------- Random Batch 4 ----------------------------\n",
      "I give up after 50 iterations\n",
      "Consensus:  CCTTGAGGCGAG Score:  47\n",
      "I give up after 50 iterations\n",
      "Consensus:  AAGCGTAGCGCG Score:  37\n",
      "---------------------------- Random Batch 6 ----------------------------\n",
      "I give up after 50 iterations\n",
      "Consensus:  CGAACTTATCTT Score:  43\n",
      "I give up after 50 iterations\n",
      "Consensus:  TACAATCCATGT Score:  46\n",
      "---------------------------- Random Batch 8 ----------------------------\n",
      "I give up after 50 iterations\n",
      "Consensus:  TGTTAAGTCTTG Score:  38\n",
      "I give up after 50 iterations\n",
      "Consensus:  GATTAAATGTTA Score:  51\n",
      "---------------------------- Random Batch 10 ----------------------------\n",
      "\n",
      "Conclusion after 10 random batch iteration:\n",
      "Consensus:  AAGCGTAGCGCG Score:  37\n",
      "Best Motifs:  ['GAGCTTAGCACG', 'AAGCGCACCGGT', 'AAGCGTTGTGGG', 'GAGCCTAGCGCG', 'ATGCATAATGCT', 'CTGCGTAGGGCG', 'CAGAGTAGCGCG', 'GAGGGTAACCTT', 'AAGCATAGCCTG', 'CAGCGGAGGCTT']\n"
     ]
    }
   ],
   "source": [
    "consensus_gibbs11, score_gibbs11 = GibbsSamplerSearch(DNA,k=12,t=t,randomNum=randomNum)"
   ]
  },
  {
   "cell_type": "code",
   "execution_count": 1220,
   "metadata": {},
   "outputs": [
    {
     "name": "stdout",
     "output_type": "stream",
     "text": [
      "Random Motif Search\n",
      "k = 9: \n",
      "Consensus:  GCAACGTCC Score:  23\n",
      "k = 10: \n",
      "Consensus:  AGAACTACAT Score:  30\n",
      "k = 11: \n",
      "Consensus:  TGAAACATTTG Score:  34\n",
      "Gibbs Sampler Search\n",
      "k = 9: \n",
      "Consensus:  GTATGAATG Score:  24\n",
      "k = 10: \n",
      "Consensus:  AGCACGTATT Score:  28\n",
      "k = 11: \n",
      "Consensus:  AAGCGTAGCGCG Score:  37\n"
     ]
    }
   ],
   "source": [
    "print(\"Random Motif Search\")\n",
    "print(\"k = 9: \")\n",
    "print(\"Consensus: \", consensus_rand9, \"Score: \", score_rand9)\n",
    "print(\"k = 10: \")\n",
    "print(\"Consensus: \", consensus_rand10, \"Score: \", score_rand10)\n",
    "print(\"k = 11: \")\n",
    "print(\"Consensus: \", consensus_rand11, \"Score: \", score_rand11)\n",
    "\n",
    "print(\"Gibbs Sampler Search\")\n",
    "print(\"k = 9: \")\n",
    "print(\"Consensus: \", consensus_gibbs9, \"Score: \", score_gibbs9)\n",
    "print(\"k = 10: \")\n",
    "print(\"Consensus: \", consensus_gibbs10, \"Score: \", score_gibbs10)\n",
    "print(\"k = 11: \")\n",
    "print(\"Consensus: \", consensus_gibbs11, \"Score: \", score_gibbs11)\n"
   ]
  },
  {
   "cell_type": "markdown",
   "metadata": {},
   "source": [
    "## Conclusion:\n",
    "\n",
    "As you can see I implemented a random motif search algorithm and gibbs sampler from scratch and improved it as best as I could. Gibbs was especially challanging with all its list index management issues.\n",
    "\n",
    "Iterating from same random starting point was pretty much pointless most of the time. Because even the 11 k-mer motif converged almost immidiately. Starting from different random points really improved the convergence point and should be considered more for every random initating algorithm.\n",
    "\n",
    "I tried to compute time but they were quick enough to baffle my computers timer. So I did not used it in the final product. Yet in general, Randomized Motif Search is slower than Gibbs Sampler. I would say Gibbs is almost two times faster than Randomized Motif Search. Given that, Randomized Motif Search is slightly better at converging as you can see from the scores.\n",
    "\n",
    "In conclusion, with very large data sets, Gibbs would be more usefull because of its speed. Even though it slightly scores less, it can iterate much more and possible get better results in the same time."
   ]
  },
  {
   "cell_type": "markdown",
   "metadata": {},
   "source": [
    "Emre Erdem - 150115501"
   ]
  }
 ],
 "metadata": {
  "kernelspec": {
   "display_name": "Python 3",
   "language": "python",
   "name": "python3"
  },
  "language_info": {
   "codemirror_mode": {
    "name": "ipython",
    "version": 3
   },
   "file_extension": ".py",
   "mimetype": "text/x-python",
   "name": "python",
   "nbconvert_exporter": "python",
   "pygments_lexer": "ipython3",
   "version": "3.7.6"
  }
 },
 "nbformat": 4,
 "nbformat_minor": 4
}
